{
 "cells": [
  {
   "cell_type": "code",
   "execution_count": null,
   "metadata": {},
   "outputs": [],
   "source": [
    "import pandas as pd\n",
    "import numpy as np"
   ]
  },
  {
   "cell_type": "code",
   "execution_count": null,
   "metadata": {},
   "outputs": [],
   "source": [
    "df1= pd.read_csv('fills.csv')\n",
    "df2= pd.read_csv('settlepx.csv')\n",
    "pd.Series(df2['sym']).is_unique\n",
    "# check if column of dataframe are unique to avoid descrepancy"
   ]
  },
  {
   "cell_type": "code",
   "execution_count": null,
   "metadata": {},
   "outputs": [],
   "source": [
    "#Dropping all strategies and taking only outright positions in account\n",
    "arr=[]\n",
    "j=0\n",
    "for i in df1.sym:\n",
    "    \n",
    "    if '-' in i or '+' in i or ':' in i:\n",
    "        \n",
    "        arr.append(j)\n",
    "    j+=1\n",
    "df1.drop(arr,inplace=True)"
   ]
  },
  {
   "cell_type": "code",
   "execution_count": null,
   "metadata": {},
   "outputs": [],
   "source": [
    "df1"
   ]
  },
  {
   "cell_type": "code",
   "execution_count": null,
   "metadata": {},
   "outputs": [],
   "source": [
    "# Format for mapping the positions with the profit and loss\n",
    "from collections import defaultdict\n",
    "def default():\n",
    "    return [0,0]\n",
    "strat=defaultdict(default)"
   ]
  },
  {
   "cell_type": "code",
   "execution_count": null,
   "metadata": {},
   "outputs": [],
   "source": [
    "# Buying and selling the outright positions\n",
    "k1=0\n",
    "print (len(df1.index))\n",
    "for i in df1.index:\n",
    "#     print (df1.sym[i])\n",
    "    if(df1.side[i]=='B'):\n",
    "        \n",
    "        strat[df1.sym[i]][0]+=df1.quantity[i]\n",
    "        strat[df1.sym[i]][1]-=df1.quantity[i]*df1.price[i]\n",
    "        \n",
    "    else:\n",
    "    \n",
    "        strat[df1.sym[i]][0]-=df1.quantity[i]\n",
    "        strat[df1.sym[i]][1]+=df1.quantity[i]*df1.price[i]\n",
    "        \n",
    "    \n",
    "            \n",
    "    \n",
    "\n",
    "    "
   ]
  },
  {
   "cell_type": "code",
   "execution_count": null,
   "metadata": {},
   "outputs": [],
   "source": [
    "# This part closes the remaining positions at settling price\n",
    "for i in strat:\n",
    "    if(strat[i][0]>0):\n",
    "        \n",
    "        if len(df2[df2['sym']==i]['settlepx'].values)>0:\n",
    "            k=df2[df2['sym']==i]['settlepx'].values\n",
    "            strat[i][1]+=(strat[i][0]*k[0])\n",
    "            strat[i][0]=0\n",
    "#             print (k,strat[i][1])\n",
    "#         else:\n",
    "#             strat[i][1]+=0\n",
    "\n",
    "            \n",
    "\n",
    "            \n",
    "\n",
    "            "
   ]
  },
  {
   "cell_type": "code",
   "execution_count": null,
   "metadata": {},
   "outputs": [],
   "source": [
    "# This will show the end position profits of individual positions\n",
    "strat"
   ]
  },
  {
   "cell_type": "code",
   "execution_count": null,
   "metadata": {},
   "outputs": [],
   "source": []
  }
 ],
 "metadata": {
  "kernelspec": {
   "display_name": "Python 3",
   "language": "python",
   "name": "python3"
  },
  "language_info": {
   "codemirror_mode": {
    "name": "ipython",
    "version": 3
   },
   "file_extension": ".py",
   "mimetype": "text/x-python",
   "name": "python",
   "nbconvert_exporter": "python",
   "pygments_lexer": "ipython3",
   "version": "3.9.1"
  }
 },
 "nbformat": 4,
 "nbformat_minor": 4
}
