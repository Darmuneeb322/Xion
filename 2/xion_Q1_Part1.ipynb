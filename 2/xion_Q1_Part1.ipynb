{
 "cells": [
  {
   "cell_type": "code",
   "execution_count": null,
   "metadata": {},
   "outputs": [],
   "source": [
    "import pandas as pd\n",
    "import numpy as np"
   ]
  },
  {
   "cell_type": "code",
   "execution_count": null,
   "metadata": {},
   "outputs": [],
   "source": [
    "df1= pd.read_csv('fills.csv')\n",
    "df2= pd.read_csv('settlepx.csv')\n",
    "pd.Series(df2['sym']).is_unique\n",
    "# check if column of dataframe are unique to avoid descrepancy"
   ]
  },
  {
   "cell_type": "code",
   "execution_count": null,
   "metadata": {},
   "outputs": [],
   "source": [
    "# arr=[]\n",
    "# j=0\n",
    "# for i in df1.sym:\n",
    "    \n",
    "#     if '-' in i or '+' in i or ':' in i:\n",
    "        \n",
    "#         arr.append(j)\n",
    "#     j+=1\n",
    "# df1.drop(arr,inplace=True)"
   ]
  },
  {
   "cell_type": "code",
   "execution_count": null,
   "metadata": {},
   "outputs": [],
   "source": [
    "# df1\n"
   ]
  },
  {
   "cell_type": "code",
   "execution_count": null,
   "metadata": {},
   "outputs": [],
   "source": [
    "df3=pd.read_csv('fills.csv')\n",
    "df3"
   ]
  },
  {
   "cell_type": "code",
   "execution_count": null,
   "metadata": {},
   "outputs": [],
   "source": [
    "\n",
    "# crr=[]\n",
    "# k1=0\n",
    "# for i in df3.sym:\n",
    "#     k1=i\n",
    "#     j=df2[df2['sym']==i]['settlepx'].values\n",
    "#     crr.append(j)\n",
    "# crr1=[]\n",
    "# for i in crr:\n",
    "#     if len(i)>0:\n",
    "#         crr1.append(i[0])\n",
    "#     else:\n",
    "#         crr1.append(None)\n",
    "# df3['settelpx']=crr1\n"
   ]
  },
  {
   "cell_type": "code",
   "execution_count": null,
   "metadata": {},
   "outputs": [],
   "source": [
    "# df3"
   ]
  },
  {
   "cell_type": "code",
   "execution_count": null,
   "metadata": {},
   "outputs": [],
   "source": [
    "from collections import defaultdict"
   ]
  },
  {
   "cell_type": "code",
   "execution_count": null,
   "metadata": {},
   "outputs": [],
   "source": [
    "#formatting for map\n",
    "from collections import defaultdict\n",
    "def default1():\n",
    "    return [0,0]\n",
    "def default():\n",
    "    return defaultdict(default1)\n",
    "traders=defaultdict(default)\n",
    "traders['fd']['sgf'][1]=1\n",
    "\n",
    "del traders"
   ]
  },
  {
   "cell_type": "code",
   "execution_count": null,
   "metadata": {},
   "outputs": [],
   "source": [
    "#formatting for map\n",
    "from collections import defaultdict\n",
    "def default1():\n",
    "    return [0,0]\n",
    "def default():\n",
    "    return defaultdict(default1)\n",
    "traders=defaultdict(default)"
   ]
  },
  {
   "cell_type": "code",
   "execution_count": null,
   "metadata": {},
   "outputs": [],
   "source": [
    "#mapping the profits for corresponding traders\n",
    "k2=0\n",
    "\n",
    "for i in df1.sym:\n",
    "    \n",
    "#     print (traders[df1.trader[k2]][df1.sym[k2]],df1.sym[k2])\n",
    "#storing Buy and sell values into the pre-declared map\n",
    "    if(df1.side[k2]=='B'):\n",
    "        traders[df1.trader[k2]][df1.sym[k2]][0]+=df1.quantity[k2]\n",
    "        traders[df1.trader[k2]][df1.sym[k2]][1]-=df1.quantity[k2]*df1.price[k2]\n",
    "    else:\n",
    "        traders[df1.trader[k2]][df1.sym[k2]][0]-=df1.quantity[k2]\n",
    "        traders[df1.trader[k2]][df1.sym[k2]][1]+=df1.quantity[k2]*df1.price[k2]\n",
    "    \n",
    "   \n",
    "    k2+=1\n",
    "        "
   ]
  },
  {
   "cell_type": "code",
   "execution_count": null,
   "metadata": {},
   "outputs": [],
   "source": [
    "# traders\n"
   ]
  },
  {
   "cell_type": "code",
   "execution_count": null,
   "metadata": {},
   "outputs": [],
   "source": [
    "# Drooping the rows containing NaN values\n",
    "df2.dropna(inplace=True)"
   ]
  },
  {
   "cell_type": "code",
   "execution_count": null,
   "metadata": {},
   "outputs": [],
   "source": [
    "for i in traders:\n",
    "    for j in traders[i]:\n",
    "        if(traders[i][j][0]>0):\n",
    "            try:\n",
    "#             print(j)\n",
    "                k=df2[df2['sym']==j]['settlepx'].values\n",
    "                if len(k)>0:\n",
    "\n",
    "#                     print(k[0])\n",
    "                    traders[i][j][1]+=(traders[i][j][0]*k[0])\n",
    "                else:\n",
    "                    traders[i][j][1]+=0\n",
    "            except:\n",
    "                pass\n",
    "                \n",
    "            \n",
    "\n",
    "            \n",
    "\n",
    "            "
   ]
  },
  {
   "cell_type": "code",
   "execution_count": null,
   "metadata": {},
   "outputs": [],
   "source": [
    "def default2():\n",
    "    return 0\n",
    "pandl=defaultdict(default2)\n",
    "\n",
    "for i in traders:\n",
    "    for j in traders[i]:\n",
    "#         print(traders[i][j])\n",
    "        pandl[i]+=traders[i][j][1]\n",
    "    "
   ]
  },
  {
   "cell_type": "code",
   "execution_count": null,
   "metadata": {},
   "outputs": [],
   "source": [
    "print (\"{:<10} {:<10} \".format('TRADER', 'PANDL'))\n",
    "  \n",
    "# print each data item.\n",
    "for key, value in pandl.items():\n",
    "    Trader=key\n",
    "    PandL = value\n",
    "    print (\"{:<10} {:<10} \".format(Trader, PandL))"
   ]
  }
 ],
 "metadata": {
  "kernelspec": {
   "display_name": "Python 3",
   "language": "python",
   "name": "python3"
  },
  "language_info": {
   "codemirror_mode": {
    "name": "ipython",
    "version": 3
   },
   "file_extension": ".py",
   "mimetype": "text/x-python",
   "name": "python",
   "nbconvert_exporter": "python",
   "pygments_lexer": "ipython3",
   "version": "3.9.1"
  }
 },
 "nbformat": 4,
 "nbformat_minor": 4
}
