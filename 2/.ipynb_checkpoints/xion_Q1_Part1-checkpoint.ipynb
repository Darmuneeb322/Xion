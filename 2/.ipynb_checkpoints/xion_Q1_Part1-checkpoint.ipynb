{
 "cells": [
  {
   "cell_type": "code",
   "execution_count": 3,
   "metadata": {},
   "outputs": [],
   "source": [
    "import pandas as pd\n",
    "import numpy as np"
   ]
  },
  {
   "cell_type": "code",
   "execution_count": 5,
   "metadata": {},
   "outputs": [
    {
     "data": {
      "text/plain": [
       "False"
      ]
     },
     "execution_count": 5,
     "metadata": {},
     "output_type": "execute_result"
    }
   ],
   "source": [
    "df1= pd.read_csv('fills.csv')\n",
    "df2= pd.read_csv('Settlepx_updated.csv')\n",
    "pd.Series(df2['sym']).is_unique\n",
    "# check if column of dataframe are unique to avoid descrepancy"
   ]
  },
  {
   "cell_type": "code",
   "execution_count": 6,
   "metadata": {},
   "outputs": [],
   "source": [
    "k=0\n",
    "for i in df1.sym:\n",
    "    \n",
    "    if '-' not in i and '+' not in i and ':' not in i:\n",
    "            df1.drop([k],inplace=True)\n",
    "    k+=1\n"
   ]
  },
  {
   "cell_type": "code",
   "execution_count": 8,
   "metadata": {},
   "outputs": [],
   "source": [
    "# df1\n"
   ]
  },
  {
   "cell_type": "code",
   "execution_count": 9,
   "metadata": {},
   "outputs": [],
   "source": [
    "df3=pd.read_csv('fills.csv')"
   ]
  },
  {
   "cell_type": "code",
   "execution_count": 10,
   "metadata": {},
   "outputs": [],
   "source": [
    "\n",
    "# crr=[]\n",
    "# k1=0\n",
    "# for i in df3.sym:\n",
    "#     k1=i\n",
    "#     j=df2[df2['sym']==i]['settlepx'].values\n",
    "#     crr.append(j)\n",
    "# crr1=[]\n",
    "# for i in crr:\n",
    "#     if len(i)>0:\n",
    "#         crr1.append(i[0])\n",
    "#     else:\n",
    "#         crr1.append(None)\n",
    "# df3['settelpx']=crr1\n"
   ]
  },
  {
   "cell_type": "code",
   "execution_count": 11,
   "metadata": {},
   "outputs": [],
   "source": [
    "# df3"
   ]
  },
  {
   "cell_type": "code",
   "execution_count": 12,
   "metadata": {},
   "outputs": [],
   "source": [
    "from collections import defaultdict"
   ]
  },
  {
   "cell_type": "code",
   "execution_count": 13,
   "metadata": {},
   "outputs": [],
   "source": [
    "#formatting for map\n",
    "from collections import defaultdict\n",
    "def default1():\n",
    "    return [0,0]\n",
    "def default():\n",
    "    return defaultdict(default1)\n",
    "traders=defaultdict(default)\n",
    "traders['fd']['sgf'][1]=1\n",
    "\n",
    "del traders"
   ]
  },
  {
   "cell_type": "code",
   "execution_count": 14,
   "metadata": {},
   "outputs": [],
   "source": [
    "#formatting for map\n",
    "from collections import defaultdict\n",
    "def default1():\n",
    "    return [0,0]\n",
    "def default():\n",
    "    return defaultdict(default1)\n",
    "traders=defaultdict(default)"
   ]
  },
  {
   "cell_type": "code",
   "execution_count": 18,
   "metadata": {},
   "outputs": [],
   "source": [
    "#mapping the profits for corresponding traders\n",
    "k2=0\n",
    "\n",
    "for i in df1.index:\n",
    "# print (traders[df1.trader[k2]][df1.sym[k2]],df1.sym[k2])\n",
    "#storing Buy and sell values into the pre-declared map\n",
    "    k2=i\n",
    "    if(df1.side[k2]=='B'):\n",
    "        traders[df1.trader[k2]][df1.sym[k2]][0]+=df1.quantity[k2]\n",
    "        traders[df1.trader[k2]][df1.sym[k2]][1]-=df1.quantity[k2]*df1.price[k2]\n",
    "    else:\n",
    "        traders[df1.trader[k2]][df1.sym[k2]][0]-=df1.quantity[k2]\n",
    "        traders[df1.trader[k2]][df1.sym[k2]][1]+=df1.quantity[k2]*df1.price[k2]\n",
    "    \n",
    "   \n",
    "    \n",
    "        "
   ]
  },
  {
   "cell_type": "code",
   "execution_count": 20,
   "metadata": {},
   "outputs": [],
   "source": [
    "for i in traders:\n",
    "    for j in traders[i]:\n",
    "        if(traders[i][j][0]>0):\n",
    "            try:\n",
    "#             print(j)\n",
    "                k=df2[df2['sym']==j]['settlepx'].values\n",
    "                if len(k)>0:\n",
    "\n",
    "#                     print(k[0])\n",
    "                    traders[i][j][1]+=(traders[i][j][0]*k[0])\n",
    "                else:\n",
    "                    traders[i][j][1]+=0\n",
    "            except:\n",
    "                pass\n",
    "                \n",
    "            \n",
    "\n",
    "            \n",
    "\n",
    "            "
   ]
  },
  {
   "cell_type": "code",
   "execution_count": 21,
   "metadata": {},
   "outputs": [],
   "source": [
    "def default2():\n",
    "    return 0\n",
    "pandl=defaultdict(default2)\n",
    "\n",
    "for i in traders:\n",
    "    for j in traders[i]:\n",
    "#         print(traders[i][j])\n",
    "        pandl[i]+=traders[i][j][1]\n",
    "    "
   ]
  },
  {
   "cell_type": "code",
   "execution_count": 16,
   "metadata": {},
   "outputs": [
    {
     "name": "stdout",
     "output_type": "stream",
     "text": [
      "TRADER     PANDL      \n",
      "CSCHMIDT   125490708.5790625 \n",
      "CA1057     374767628.25 \n",
      "eugenekrel 1616275.0  \n",
      "ARB01057EK 4245.0     \n",
      "craigatkins 53174.78249999997 \n",
      "catkins    175.0      \n",
      "AGUPTA     483859.8119999998 \n",
      "amarkantkumar 186524.98499999996 \n",
      "AKUMAR     200904.43  \n",
      "AMENON     353841.36499999993 \n",
      "ravikumarverma 100724.59499999996 \n",
      "RVERMA     96968.47   \n",
      "arvindmenon 135996.24999999997 \n",
      "angelgupta 174693.705 \n",
      "AM1057     6898351.5  \n",
      "AG1357     3672247.0  \n",
      "harishreddy 1499.3999999999999 \n",
      "HREDDY     4970.240000000001 \n",
      "AK1357     309558.5   \n",
      "FIZERALGO  0.0        \n",
      "RKV1057    64307.0    \n"
     ]
    }
   ],
   "source": [
    "print (\"{:<10} {:<10} \".format('TRADER', 'PANDL'))\n",
    "  \n",
    "# print each data item.\n",
    "for key, value in pandl.items():\n",
    "    Trader=key\n",
    "    PandL = value\n",
    "    print (\"{:<10} {:<10} \".format(Trader, PandL))"
   ]
  },
  {
   "cell_type": "code",
   "execution_count": null,
   "metadata": {},
   "outputs": [],
   "source": []
  }
 ],
 "metadata": {
  "kernelspec": {
   "display_name": "Python 3",
   "language": "python",
   "name": "python3"
  },
  "language_info": {
   "codemirror_mode": {
    "name": "ipython",
    "version": 3
   },
   "file_extension": ".py",
   "mimetype": "text/x-python",
   "name": "python",
   "nbconvert_exporter": "python",
   "pygments_lexer": "ipython3",
   "version": "3.9.1"
  }
 },
 "nbformat": 4,
 "nbformat_minor": 4
}
