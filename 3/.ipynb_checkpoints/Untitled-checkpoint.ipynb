{
 "cells": [
  {
   "cell_type": "code",
   "execution_count": 1,
   "metadata": {},
   "outputs": [],
   "source": [
    "import pandas as pd\n",
    "import numpy as np"
   ]
  },
  {
   "cell_type": "code",
   "execution_count": 2,
   "metadata": {},
   "outputs": [],
   "source": [
    "fills= pd.read_csv('fills.csv')\n",
    "settle= pd.read_csv('Settlepx_updated.csv')"
   ]
  },
  {
   "cell_type": "code",
   "execution_count": 5,
   "metadata": {},
   "outputs": [],
   "source": [
    "# Dropping the outright postions to take only strategies into account \n",
    "brr=[]\n",
    "k=0\n",
    "for i in fills.sym:\n",
    "    \n",
    "    if '-' not in i and '+' not in i and ':' not in i:\n",
    "            fills.drop([k],inplace=True)\n",
    "    k+=1"
   ]
  },
  {
   "cell_type": "code",
   "execution_count": 7,
   "metadata": {},
   "outputs": [],
   "source": [
    "from collections import defaultdict\n",
    "def default():\n",
    "    return [0,0]\n",
    "trades=defaultdict(default)"
   ]
  },
  {
   "cell_type": "code",
   "execution_count": 10,
   "metadata": {},
   "outputs": [],
   "source": [
    "\n",
    "from collections import defaultdict\n",
    "def default1():\n",
    "    return 0\n",
    "recent=defaultdict(default)"
   ]
  },
  {
   "cell_type": "code",
   "execution_count": 9,
   "metadata": {},
   "outputs": [
    {
     "name": "stdout",
     "output_type": "stream",
     "text": [
      "6160\n"
     ]
    }
   ],
   "source": [
    "k1=0\n",
    "print (len(fills.index))\n",
    "for i in fills.index:\n",
    "#     print (df1.sym[i])\n",
    "    if(fills.side[i]=='B'):\n",
    "        \n",
    "        trades[fills.sym[i]][0]+=fills.quantity[i]\n",
    "        trades[fills.sym[i]][1]-=fills.quantity[i]*fills.price[i]\n",
    "        \n",
    "    else:\n",
    "    \n",
    "        trades[fills.sym[i]][0]-=fills.quantity[i]\n",
    "        trades[fills.sym[i]][1]+=fills.quantity[i]*fills.price[i]"
   ]
  },
  {
   "cell_type": "code",
   "execution_count": null,
   "metadata": {},
   "outputs": [],
   "source": []
  }
 ],
 "metadata": {
  "kernelspec": {
   "display_name": "Python 3",
   "language": "python",
   "name": "python3"
  },
  "language_info": {
   "codemirror_mode": {
    "name": "ipython",
    "version": 3
   },
   "file_extension": ".py",
   "mimetype": "text/x-python",
   "name": "python",
   "nbconvert_exporter": "python",
   "pygments_lexer": "ipython3",
   "version": "3.9.1"
  }
 },
 "nbformat": 4,
 "nbformat_minor": 4
}
